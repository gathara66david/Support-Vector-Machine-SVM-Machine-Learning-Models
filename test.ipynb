{
 "cells": [
  {
   "cell_type": "code",
   "execution_count": null,
   "metadata": {},
   "outputs": [],
   "source": [
    "\"\"\"Now that you've seen how SVMs work, try using SVRs to predict the\n",
    " SalePrice of home price data we used in Chapter 14, Optimizing Models\n",
    " and Using AutoML. This is also available in the \n",
    "Chapter16\\data folder in\n",
    " the book's GitHub repository. Try comparing this with other models we've\n",
    " learned about so far\"\"\""
   ]
  }
 ],
 "metadata": {
  "language_info": {
   "name": "python"
  }
 },
 "nbformat": 4,
 "nbformat_minor": 2
}
