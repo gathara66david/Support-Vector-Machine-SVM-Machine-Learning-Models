{
 "cells": [
  {
   "cell_type": "code",
   "execution_count": 1,
   "metadata": {},
   "outputs": [],
   "source": [
    "import pandas as pd \n",
    "from sklearn.model_selection import train_test_split \n",
    "from sklearn.preprocessing import StandardScaler"
   ]
  },
  {
   "cell_type": "code",
   "execution_count": 2,
   "metadata": {},
   "outputs": [],
   "source": [
    "df = pd.read_excel(r\"C:\\Users\\David gathara marigi\\Downloads\\default of credit card clients.xls\", skiprows=1, index_col='ID')"
   ]
  },
  {
   "cell_type": "code",
   "execution_count": null,
   "metadata": {},
   "outputs": [],
   "source": [
    " \n",
    "target_column = 'default payment next month' \n",
    "features = df.drop(target_column, axis=1) \n",
    "targets = df[target_column] \n",
    "train_x, test_x, train_y, test_y = train_test_split(features, \n",
    "                                                    targets, \n",
    "stratify=targets, \n",
    "random_state=42) \n",
    "scaler = StandardScaler() \n",
    "scaled_train_x = scaler.fit_transform(train_x) \n",
    "scaled_test_x = scaler.transform(test_x)"
   ]
  },
  {
   "cell_type": "code",
   "execution_count": null,
   "metadata": {},
   "outputs": [],
   "source": [
    "from sklearn.svm import LinearSVC"
   ]
  },
  {
   "cell_type": "code",
   "execution_count": null,
   "metadata": {},
   "outputs": [],
   "source": [
    "lsvc = LinearSVC() \n",
    "lsvc.fit(scaled_train_x, train_y) \n",
    "print(lsvc.score(scaled_train_x, train_y)) \n",
    "print(lsvc.score(scaled_test_x, test_y))"
   ]
  },
  {
   "cell_type": "code",
   "execution_count": null,
   "metadata": {},
   "outputs": [],
   "source": [
    "from sklearn.svm import SVC"
   ]
  },
  {
   "cell_type": "code",
   "execution_count": null,
   "metadata": {},
   "outputs": [],
   "source": [
    "svc = SVC(probability=True) \n",
    "svc.fit(scaled_train_x, train_y) \n",
    "print(svc.score(scaled_train_x, train_y)) \n",
    "print(svc.score(scaled_test_x, test_y)) "
   ]
  },
  {
   "cell_type": "code",
   "execution_count": null,
   "metadata": {},
   "outputs": [],
   "source": [
    "from pycaret.distributions import UniformDistribution \n",
    "from pycaret.classification import setup, create_model, tune_model"
   ]
  },
  {
   "cell_type": "code",
   "execution_count": null,
   "metadata": {},
   "outputs": [],
   "source": [
    "clf_setup = setup(data=df, \n",
    "                  target='default payment next month', \n",
    "                  normalize=True) \n",
    "lsvc = create_model(LinearSVC()) \n",
    "tuned_lsvc = tune_model(lsvc, \n",
    "                        search_library='scikit-optimize', \n",
    "                        custom_grid={\"C\": \n",
    "UniformDistribution(0, 50)})"
   ]
  },
  {
   "cell_type": "code",
   "execution_count": null,
   "metadata": {},
   "outputs": [],
   "source": [
    "lsvc = create_model('svm') \n",
    "tuned_lsvc = tune_model(lsvc, search_library='scikit optimize')"
   ]
  },
  {
   "cell_type": "code",
   "execution_count": null,
   "metadata": {},
   "outputs": [],
   "source": []
  }
 ],
 "metadata": {
  "kernelspec": {
   "display_name": "Python 3",
   "language": "python",
   "name": "python3"
  },
  "language_info": {
   "codemirror_mode": {
    "name": "ipython",
    "version": 3
   },
   "file_extension": ".py",
   "mimetype": "text/x-python",
   "name": "python",
   "nbconvert_exporter": "python",
   "pygments_lexer": "ipython3",
   "version": "3.12.9"
  }
 },
 "nbformat": 4,
 "nbformat_minor": 2
}
